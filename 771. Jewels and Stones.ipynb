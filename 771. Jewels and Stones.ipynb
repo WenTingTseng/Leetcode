{
  "cells": [
    {
      "metadata": {
        "collapsed": true
      },
      "cell_type": "markdown",
      "source": "## 題目:"
    },
    {
      "metadata": {},
      "cell_type": "markdown",
      "source": "You're given strings J representing the types of stones that are jewels, and S representing the stones you have.  Each character\n\nin S is a type of stone you have.  You want to know how many of the stones you have are also jewels.\n\nThe letters in J are guaranteed distinct, and all characters in J and S are letters. Letters are case sensitive, so \"a\" is\n\nconsidered a different type of stone from \"A\"."
    },
    {
      "metadata": {},
      "cell_type": "markdown",
      "source": "Example 1:\n\nInput: J = \"aA\", S = \"aAAbbbb\"\n\nOutput: 3"
    },
    {
      "metadata": {},
      "cell_type": "markdown",
      "source": "Example 2:\n\nInput: J = \"z\", S = \"ZZ\"\n\nOutput: 0"
    },
    {
      "metadata": {},
      "cell_type": "markdown",
      "source": "J裡面的元素是獨一無二的，所以只要數S中出現了多少個j就行"
    },
    {
      "metadata": {},
      "cell_type": "markdown",
      "source": "時間複雜度是O(MN),空間複雜度O(1)   M是J長度，N是S長度"
    },
    {
      "metadata": {
        "trusted": true
      },
      "cell_type": "code",
      "source": "def numJewelsInStones(self, J, S):\n      return sum(S.count(j) for j in J)",
      "execution_count": null,
      "outputs": []
    },
    {
      "metadata": {
        "trusted": true
      },
      "cell_type": "markdown",
      "source": "![title](img/Jewels and Stones.JPG)"
    }
  ],
  "metadata": {
    "kernelspec": {
      "display_name": "Python 3.6",
      "name": "python36",
      "language": "python"
    },
    "language_info": {
      "mimetype": "text/ x - python",
      "nbconvert_exporter": "python",
      "version": "3.6.0",
      "name": "python",
      "file_extension": ".py",
      "pygments_lexer": "ipython2",
      "codemirror_mode": {
        "version": 2,
        "name": "ipython"
      }
    }
  },
  "nbformat": 4,
  "nbformat_minor": 2
}