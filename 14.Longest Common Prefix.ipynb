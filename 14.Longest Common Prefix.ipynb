{
 "cells": [
  {
   "cell_type": "markdown",
   "metadata": {
    "collapsed": true
   },
   "source": [
    "## 題目"
   ]
  },
  {
   "cell_type": "markdown",
   "metadata": {},
   "source": [
    "Write a function to find the longest common prefix string amongst an array of strings.\n",
    "\n",
    "If there is no common prefix, return an empty string \"\"."
   ]
  },
  {
   "cell_type": "markdown",
   "metadata": {},
   "source": [
    "<h4>Example 1:</h4>\n",
    "\n",
    "Input: [\"flower\",\"flow\",\"flight\"]\n",
    "\n",
    "Output: \"fl\""
   ]
  },
  {
   "cell_type": "markdown",
   "metadata": {},
   "source": [
    "<h4>Example 2:</h4>\n",
    "\n",
    "Input: [\"dog\",\"racecar\",\"car\"]\n",
    "\n",
    "Output: \"\"\n",
    "\n",
    "Explanation: There is no common prefix among the input strings."
   ]
  },
  {
   "cell_type": "markdown",
   "metadata": {},
   "source": [
    "這題主要目的在於練習常見的字串比對處理。"
   ]
  },
  {
   "cell_type": "markdown",
   "metadata": {},
   "source": [
    "<h3>解題思路:</h3>\n",
    "\n",
    "Python支援的min()和max()可以讓我們在List[str]中列出依字母排列順序\n",
    "最小和最大的字串。當我們可以很簡單拿到這個值時，\n",
    "我們可以換一個思路，從頭到尾比較的時候，\n",
    "我們其實只需比最小和最大的兩個字串就好，當它們是相同字元時則往下繼續，\n",
    "否則就回傳至目前為止的substring。\n",
    "(因為排序最大和排序最小在某個index字元相同時，\n",
    "即代表著中間其他字串在此index字元亦相同)"
   ]
  },
  {
   "cell_type": "code",
   "execution_count": 23,
   "metadata": {},
   "outputs": [],
   "source": [
    "def longestCommonPrefix(strs):\n",
    "    if not strs: #檢查是否空list\n",
    "        return \"\"\n",
    "    s1=min(strs) \n",
    "    s2=max(strs) \n",
    "    \n",
    "    for i,c in enumerate(s1):\n",
    "        if c!=s2[i]:\n",
    "            return s1[:i]\n",
    "    return s1"
   ]
  },
  {
   "cell_type": "markdown",
   "metadata": {},
   "source": [
    "![title](img/Longest Common Prefix.JPG)"
   ]
  },
  {
   "cell_type": "code",
   "execution_count": null,
   "metadata": {},
   "outputs": [],
   "source": []
  }
 ],
 "metadata": {
  "kernelspec": {
   "display_name": "Python 3.6",
   "language": "python",
   "name": "python36"
  },
  "language_info": {
   "codemirror_mode": {
    "name": "ipython",
    "version": 3
   },
   "file_extension": ".py",
   "mimetype": "text/x-python",
   "name": "python",
   "nbconvert_exporter": "python",
   "pygments_lexer": "ipython3",
   "version": "3.6.6"
  }
 },
 "nbformat": 4,
 "nbformat_minor": 2
}
