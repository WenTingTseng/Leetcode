{
  "cells": [
    {
      "metadata": {
        "collapsed": true
      },
      "cell_type": "markdown",
      "source": "<h3>題目:</h3>\n       <div class=\"footer\">\n         You are given an array coordinates, coordinates[i] = [x, y], where [x, y] represents the coordinate of a point. Check if these points make a straight line in the XY plane.\n    </div>\n    "
    },
    {
      "metadata": {},
      "cell_type": "markdown",
      "source": "<h3>解法:</h3>"
    },
    {
      "metadata": {
        "trusted": true
      },
      "cell_type": "code",
      "source": "class Solution:\n    def checkStraightLine(self,ls):\n        All=[]\n        for i in range(len(ls)):\n            if i+1>=len(ls):\n                break\n            x1,y1 = ls[i]\n            x2,y2 = ls[i+1]\n            k_numerator = (y1-y2)\n            k_denominator = (x1-x2)\n            if k_denominator!=0:\n                data=k_numerator/k_denominator\n                All.append(data)\n            else:\n                continue\n        for i in range(len(All)):\n            if(i+1>=len(All)):\n                break\n            if(All[i]!=All[i+1]):\n                return False\n        return True",
      "execution_count": 30,
      "outputs": []
    },
    {
      "metadata": {
        "trusted": true
      },
      "cell_type": "code",
      "source": "ls=[[1,2],[2,3],[3,4],[4,5],[5,6],[6,7]]\nprint(checkStraightLine(ls))",
      "execution_count": 46,
      "outputs": [
        {
          "output_type": "stream",
          "text": "True\n",
          "name": "stdout"
        }
      ]
    },
    {
      "metadata": {},
      "cell_type": "markdown",
      "source": "<h3>結果顯示</h3>"
    },
    {
      "metadata": {},
      "cell_type": "markdown",
      "source": "![title](img/Check If It Is a Straight Line.JPG)"
    }
  ],
  "metadata": {
    "kernelspec": {
      "name": "python36",
      "display_name": "Python 3.6",
      "language": "python"
    },
    "language_info": {
      "mimetype": "text/x-python",
      "nbconvert_exporter": "python",
      "name": "python",
      "pygments_lexer": "ipython3",
      "version": "3.6.6",
      "file_extension": ".py",
      "codemirror_mode": {
        "version": 3,
        "name": "ipython"
      }
    }
  },
  "nbformat": 4,
  "nbformat_minor": 2
}