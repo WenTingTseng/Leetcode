{
 "cells": [
  {
   "cell_type": "markdown",
   "metadata": {
    "collapsed": true
   },
   "source": [
    "## 題目:"
   ]
  },
  {
   "cell_type": "markdown",
   "metadata": {},
   "source": [
    "Given a sorted array nums, remove the duplicates in-place such that each element appear only once and return the new length"
   ]
  },
  {
   "cell_type": "markdown",
   "metadata": {},
   "source": [
    "本題不可以重新創建一個array空間的"
   ]
  },
  {
   "cell_type": "markdown",
   "metadata": {},
   "source": [
    "Do not allocate extra space for another array, you must do this by modifying the input array in-place with O(1) extra memory."
   ]
  },
  {
   "cell_type": "markdown",
   "metadata": {},
   "source": [
    "Example 1:\n",
    "\n",
    "Given nums = [1,1,2],\n",
    "\n",
    "Your function should return length = 2, with the first two elements of nums being 1 and 2 respectively.\n",
    "\n",
    "It doesn't matter what you leave beyond the returned length."
   ]
  },
  {
   "cell_type": "markdown",
   "metadata": {},
   "source": [
    "Example 2:\n",
    "\n",
    "Given nums = [0,0,1,1,1,2,2,3,3,4],\n",
    "\n",
    "Your function should return length = 5, with the first five elements of nums being modified to 0, 1, 2, 3, and 4 respectively.\n",
    "\n",
    "It doesn't matter what values are set beyond the returned length."
   ]
  },
  {
   "cell_type": "code",
   "execution_count": 12,
   "metadata": {},
   "outputs": [],
   "source": [
    "def removeDuplicates(nums):\n",
    "    count=0\n",
    "    if not nums:\n",
    "        return 0\n",
    "    for i in range(len(nums)):\n",
    "        if(nums[count]!=nums[i]):\n",
    "            count+=1\n",
    "            nums[count]=nums[i]\n",
    "    return count+1"
   ]
  },
  {
   "cell_type": "code",
   "execution_count": 14,
   "metadata": {},
   "outputs": [
    {
     "name": "stdout",
     "output_type": "stream",
     "text": [
      "2\n"
     ]
    }
   ],
   "source": [
    "nums=[1,1,2]\n",
    "print(removeDuplicates(nums))"
   ]
  },
  {
   "cell_type": "markdown",
   "metadata": {},
   "source": [
    "## 解題結果:"
   ]
  },
  {
   "cell_type": "markdown",
   "metadata": {},
   "source": [
    "![title](img/Remove Duplicates from Sorted Array.JPG)"
   ]
  },
  {
   "cell_type": "markdown",
   "metadata": {},
   "source": [
    "https://www.youtube.com/watch?v=Ups2ffm7PN8"
   ]
  }
 ],
 "metadata": {
  "kernelspec": {
   "display_name": "Python 3.6",
   "language": "python",
   "name": "python36"
  },
  "language_info": {
   "codemirror_mode": {
    "name": "ipython",
    "version": 3
   },
   "file_extension": ".py",
   "mimetype": "text/x-python",
   "name": "python",
   "nbconvert_exporter": "python",
   "pygments_lexer": "ipython3",
   "version": "3.6.6"
  }
 },
 "nbformat": 4,
 "nbformat_minor": 2
}
