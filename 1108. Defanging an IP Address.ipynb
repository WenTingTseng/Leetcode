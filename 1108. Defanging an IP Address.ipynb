{
  "cells": [
    {
      "metadata": {
        "collapsed": true
      },
      "cell_type": "markdown",
      "source": "## 題目:"
    },
    {
      "metadata": {},
      "cell_type": "markdown",
      "source": "Given a valid (IPv4) IP address, return a defanged version of that IP address.\n\nA defanged IP address replaces every period \".\" with \"[.]\"."
    },
    {
      "metadata": {},
      "cell_type": "markdown",
      "source": "Example 1:\n\nInput: address = \"1.1.1.1\"\n\nOutput: \"1[.]1[.]1[.]1\""
    },
    {
      "metadata": {},
      "cell_type": "markdown",
      "source": "Example 2:\n\nInput: address = \"255.100.50.0\"\n\nOutput: \"255[.]100[.]50[.]0\""
    },
    {
      "metadata": {
        "trusted": true
      },
      "cell_type": "code",
      "source": "def defangIPaddr(address):\n    rsult=address.replace(\".\",\"[.]\")\n    return result",
      "execution_count": null,
      "outputs": []
    },
    {
      "metadata": {},
      "cell_type": "markdown",
      "source": "![title](img/Defanging an IP Address.JPG)"
    }
  ],
  "metadata": {
    "kernelspec": {
      "name": "python36",
      "display_name": "Python 3.6",
      "language": "python"
    },
    "language_info": {
      "mimetype": "text/ x - python",
      "nbconvert_exporter": "python",
      "version": "3.6.0",
      "name": "python",
      "file_extension": ".py",
      "pygments_lexer": "ipython2",
      "codemirror_mode": {
        "version": 2,
        "name": "ipython"
      }
    }
  },
  "nbformat": 4,
  "nbformat_minor": 2
}