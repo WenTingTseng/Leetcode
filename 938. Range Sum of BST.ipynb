{
  "cells": [
    {
      "metadata": {
        "collapsed": true
      },
      "cell_type": "markdown",
      "source": "## 題目:"
    },
    {
      "metadata": {},
      "cell_type": "markdown",
      "source": "Given the root node of a binary search tree, return the sum of values of all nodes with value between L and R (inclusive).\n\nThe binary search tree is guaranteed to have unique values."
    },
    {
      "metadata": {},
      "cell_type": "markdown",
      "source": "Example 1:\n\nInput: root = [10,5,15,3,7,null,18], L = 7, R = 15\n\nOutput: 32"
    },
    {
      "metadata": {},
      "cell_type": "markdown",
      "source": "Example 2:\n\nInput: root = [10,5,15,3,7,13,18,1,null,6], L = 6, R = 10\n    \nOutput: 23"
    },
    {
      "metadata": {},
      "cell_type": "markdown",
      "source": "對於binary search tree可以用遞迴入手。可以用當前節點的值和L、R比較。依情況再遞迴的進入子節點"
    },
    {
      "metadata": {
        "trusted": true
      },
      "cell_type": "code",
      "source": "# Definition for a binary tree node.\n# class TreeNode:\n#     def __init__(self, x):\n#         self.val = x\n#         self.left = None\n#         self.right = None\n\nclass Solution:\n    def rangeSumBST(self, root, L, R):\n        \"\"\"\n        :type root: TreeNode\n        :type L: int\n        :type R: int\n        :rtype: int\n        \"\"\"\n        def loop(root, L, R):\n            ans = 0\n            if root:\n                if root.val > R:\n                    ans += loop(root.left, L, R)\n                elif root.val < L:\n                    ans += loop(root.right, L, R)\n                else:\n                    ans += root.val\n                    ans += loop(root.left, L, R)\n                    ans += loop(root.right, L, R)\n            return ans\n        return loop(root, L, R)\n        ",
      "execution_count": null,
      "outputs": []
    }
  ],
  "metadata": {
    "kernelspec": {
      "display_name": "Python 3.6",
      "name": "python36",
      "language": "python"
    },
    "language_info": {
      "mimetype": "text/ x - python",
      "nbconvert_exporter": "python",
      "version": "3.6.0",
      "name": "python",
      "file_extension": ".py",
      "pygments_lexer": "ipython2",
      "codemirror_mode": {
        "version": 2,
        "name": "ipython"
      }
    }
  },
  "nbformat": 4,
  "nbformat_minor": 2
}