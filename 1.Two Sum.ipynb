{
  "cells": [
    {
      "metadata": {
        "collapsed": true
      },
      "cell_type": "markdown",
      "source": "## 題目"
    },
    {
      "metadata": {},
      "cell_type": "markdown",
      "source": "Given an array of integers, return indices of the two numbers such that they add up to a specific target.\n\nYou may assume that each input would have exactly one solution, and you may not use the same element twice."
    },
    {
      "metadata": {},
      "cell_type": "markdown",
      "source": "Example:\n\nGiven nums = [2, 7, 11, 15], target = 9,\n\nBecause nums[0] + nums[1] = 2 + 7 = 9,\nreturn [0, 1]."
    },
    {
      "metadata": {
        "trusted": true
      },
      "cell_type": "code",
      "source": "def twoSum(nums,target):\n    hash={}\n    for i,num in enumerate(nums):\n        if target-num in hash:\n            return ([hash[target-num],i])\n            break\n        hash[num]=i\n    return([])",
      "execution_count": 8,
      "outputs": []
    },
    {
      "metadata": {
        "trusted": true
      },
      "cell_type": "code",
      "source": "nums=[2, 7, 11, 15]\ntarget = 9\nprint(twoSum(nums,target))",
      "execution_count": 10,
      "outputs": [
        {
          "output_type": "stream",
          "text": "[0, 1]\n",
          "name": "stdout"
        }
      ]
    },
    {
      "metadata": {},
      "cell_type": "markdown",
      "source": "<h3>三種解法</h3> :\n* 兩個for 迴圈從頭加到尾\n* 創一個Hash Table, 再使用for 迴圈去尋找答案\n* 邊創Hash Table, 邊看是否達到解答, 達到就返回"
    },
    {
      "metadata": {
        "trusted": true
      },
      "cell_type": "code",
      "source": "",
      "execution_count": null,
      "outputs": []
    }
  ],
  "metadata": {
    "kernelspec": {
      "name": "python36",
      "display_name": "Python 3.6",
      "language": "python"
    },
    "language_info": {
      "mimetype": "text/x-python",
      "nbconvert_exporter": "python",
      "name": "python",
      "pygments_lexer": "ipython3",
      "version": "3.6.6",
      "file_extension": ".py",
      "codemirror_mode": {
        "version": 3,
        "name": "ipython"
      }
    }
  },
  "nbformat": 4,
  "nbformat_minor": 2
}