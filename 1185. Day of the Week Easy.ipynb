{
 "cells": [
  {
   "cell_type": "markdown",
   "metadata": {
    "collapsed": true
   },
   "source": [
    "## 題目:"
   ]
  },
  {
   "cell_type": "markdown",
   "metadata": {},
   "source": [
    "Given a date, return the corresponding day of the week for that date.\n",
    "\n",
    "The input is given as three integers representing the day, month and year respectively.\n",
    "\n",
    "Return the answer as one of the following values {\"Sunday\", \"Monday\", \"Tuesday\", \"Wednesday\", \"Thursday\", \"Friday\", \"Saturday\"}.\n",
    " "
   ]
  },
  {
   "cell_type": "markdown",
   "metadata": {},
   "source": [
    "Example 1:\n",
    "\n",
    "Input: day = 31, month = 8, year = 2019\n",
    "Output: \"Saturday\n",
    "\n",
    "Example 2:\n",
    "\n",
    "Input: day = 18, month = 7, year = 1999\n",
    "Output: \"Sunday\"\n",
    "\n",
    "Example 3:\n",
    "\n",
    "Input: day = 15, month = 8, year = 1993\n",
    "Output: \"Sunday\""
   ]
  },
  {
   "cell_type": "markdown",
   "metadata": {},
   "source": [
    "<h3>解題思路:</h3>\n",
    "有日期對應星期的一個function，用date.weekday()會輸出0-6的數字，分別對應星期一到星期日。另外要使用日期型態的變數要先匯入date"
   ]
  },
  {
   "cell_type": "code",
   "execution_count": 22,
   "metadata": {},
   "outputs": [],
   "source": [
    "from datetime import date\n",
    "def dayOfTheWeek(year, month,day):\n",
    "    ddate=date(year,month,day).weekday()\n",
    "    week = [\"Monday\", \"Tuesday\", \"Wednesday\", \"Thursday\", \"Friday\", \"Saturday\", \"Sunday\"]\n",
    "    return week[ddate]    "
   ]
  },
  {
   "cell_type": "code",
   "execution_count": 23,
   "metadata": {},
   "outputs": [
    {
     "data": {
      "text/plain": [
       "'Sunday'"
      ]
     },
     "execution_count": 23,
     "metadata": {},
     "output_type": "execute_result"
    }
   ],
   "source": [
    "day=18\n",
    "month=7\n",
    "year=1999\n",
    "dayOfTheWeek(year,month,day)"
   ]
  },
  {
   "cell_type": "markdown",
   "metadata": {},
   "source": [
    "![title](img/1185. Day of the Week Easy.JPG)"
   ]
  }
 ],
 "metadata": {
  "kernelspec": {
   "display_name": "Python 3.6",
   "language": "python",
   "name": "python36"
  },
  "language_info": {
   "codemirror_mode": {
    "name": "ipython",
    "version": 3
   },
   "file_extension": ".py",
   "mimetype": "text/x-python",
   "name": "python",
   "nbconvert_exporter": "python",
   "pygments_lexer": "ipython3",
   "version": "3.6.6"
  }
 },
 "nbformat": 4,
 "nbformat_minor": 2
}
