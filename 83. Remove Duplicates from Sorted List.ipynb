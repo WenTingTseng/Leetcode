{
 "cells": [
  {
   "cell_type": "markdown",
   "metadata": {
    "collapsed": true
   },
   "source": [
    "## 題目:"
   ]
  },
  {
   "cell_type": "markdown",
   "metadata": {},
   "source": [
    "Given a sorted linked list, delete all duplicates such that each element appear only once."
   ]
  },
  {
   "cell_type": "markdown",
   "metadata": {},
   "source": [
    "Example 1:\n",
    "\n",
    "Input: 1-&gt;1-&gt;2\n",
    "\n",
    "Output: 1-&gt;2"
   ]
  },
  {
   "cell_type": "markdown",
   "metadata": {},
   "source": [
    "Example 2:\n",
    "\n",
    "Input: 1-&gt;1-&gt;2-&gt;3-&gt;3\n",
    "\n",
    "Output: 1-&gt;2-&gt;3"
   ]
  },
  {
   "cell_type": "markdown",
   "metadata": {},
   "source": [
    "<h3>解題思路</h3>\n",
    "遍歷所有節點，對於每個節點，檢查其後的一個節點是否與當前節點值相同，若相同則刪除後面的節點。循環下去。"
   ]
  },
  {
   "cell_type": "code",
   "execution_count": null,
   "metadata": {},
   "outputs": [],
   "source": [
    "def deleteDuplicates(head):\n",
    "    p=head\n",
    "    while p:\n",
    "        if p.next and p.next.val==p.val:\n",
    "            p.next=p.next.next\n",
    "        else:\n",
    "            p=p.next\n",
    "    return head"
   ]
  }
 ],
 "metadata": {
  "kernelspec": {
   "display_name": "Python 3.6",
   "language": "python",
   "name": "python36"
  },
  "language_info": {
   "codemirror_mode": {
    "name": "ipython",
    "version": 3
   },
   "file_extension": ".py",
   "mimetype": "text/x-python",
   "name": "python",
   "nbconvert_exporter": "python",
   "pygments_lexer": "ipython3",
   "version": "3.6.6"
  }
 },
 "nbformat": 4,
 "nbformat_minor": 2
}
