{
  "cells": [
    {
      "metadata": {
        "collapsed": true
      },
      "cell_type": "markdown",
      "source": "#### Given two non-negative integers num1 and num2 represented as string, return the sum of num1 and num2.\n\n### Note:\n\nThe length of both num1 and num2 is < 5100.\n\nBoth num1 and num2 contains only digits 0-9.\n\nBoth num1 and num2 does not contain any leading zero.\n\nYou must not use any built-in BigInteger library or convert the inputs to integer directly."
    },
    {
      "metadata": {
        "trusted": true
      },
      "cell_type": "code",
      "source": "class Solution:\n    def addStrings(self,num1, num2):\n        n1=int(num1)\n        n2=int(num2)\n        carry=0\n        ls=[]\n        while(n1>0 or n2>0):\n            new_n1=n1%10\n            n1=n1//10\n            new_n2=n2%10\n            n2=n2//10\n            new_digit=new_n1+new_n2\n            if(carry==1):\n                new_digit+=1\n                carry=0\n            if(new_digit>=10):\n                carry=1\n                if(n1!=0 or n2!=0):\n                    new_digit-=10\n            ls.append(new_digit)\n        new_ls=ls[::-1]\n        num=0\n        for i in range(len(new_ls)):\n            num=num*10+new_ls[i]\n\n        return str(num)   ",
      "execution_count": null,
      "outputs": []
    },
    {
      "metadata": {
        "trusted": true
      },
      "cell_type": "code",
      "source": "def isHappy(n):\n    sum=0\n    count=0\n \n    while(n!=1 and n!=4):\n        while(n):\n            sum+=(n%10)*(n%10)\n            n/=10\n        n=sum\n    return n==1",
      "execution_count": 2,
      "outputs": []
    },
    {
      "metadata": {
        "trusted": true
      },
      "cell_type": "code",
      "source": "isHappy(1111111)",
      "execution_count": null,
      "outputs": []
    },
    {
      "metadata": {
        "trusted": true
      },
      "cell_type": "code",
      "source": "",
      "execution_count": null,
      "outputs": []
    }
  ],
  "metadata": {
    "kernelspec": {
      "name": "python36",
      "display_name": "Python 3.6",
      "language": "python"
    },
    "language_info": {
      "mimetype": "text/x-python",
      "nbconvert_exporter": "python",
      "name": "python",
      "pygments_lexer": "ipython3",
      "version": "3.6.6",
      "file_extension": ".py",
      "codemirror_mode": {
        "version": 3,
        "name": "ipython"
      }
    }
  },
  "nbformat": 4,
  "nbformat_minor": 2
}