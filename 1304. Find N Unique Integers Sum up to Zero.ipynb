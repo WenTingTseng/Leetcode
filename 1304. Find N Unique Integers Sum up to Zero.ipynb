{
  "cells": [
    {
      "metadata": {
        "collapsed": true
      },
      "cell_type": "markdown",
      "source": "## 題目"
    },
    {
      "metadata": {},
      "cell_type": "markdown",
      "source": "Given an integer n, return any array containing n unique integers such that they add up to 0."
    },
    {
      "metadata": {},
      "cell_type": "markdown",
      "source": "Example 1:\n\nInput: n = 5\n\nOutput: [-7,-1,1,3,4]\n\nExplanation: These arrays also are accepted [-5,-1,1,2,3] , [-3,-1,2,-2,4]."
    },
    {
      "metadata": {},
      "cell_type": "markdown",
      "source": "Example 2:\n\nInput: n = 3\n\nOutput: [-1,0,1]"
    },
    {
      "metadata": {},
      "cell_type": "markdown",
      "source": "Example 3:\n\nInput: n = 1\n\nOutput: [0]"
    },
    {
      "metadata": {},
      "cell_type": "markdown",
      "source": "<h3>解題思路:</h3>\n如果n是偶數，例如6，那麼就是[-3,-2,-1,1,2,3]\n如果是奇數，比如7，那麼就是[-3,-2,-1,1,2,3]再加上一個零"
    },
    {
      "metadata": {
        "trusted": true
      },
      "cell_type": "code",
      "source": "def sumZero(n):\n    res=[]\n    if n%2==1:\n        res.append(0)\n    count=n//2\n    while count>0:\n        res.append(count)\n        res.append(-count)\n        count-=1\n    return res",
      "execution_count": null,
      "outputs": []
    },
    {
      "metadata": {
        "trusted": true
      },
      "cell_type": "code",
      "source": "n=5\nprint(sumZero(n))",
      "execution_count": null,
      "outputs": []
    },
    {
      "metadata": {},
      "cell_type": "markdown",
      "source": "![title](img/Check If It Is a Straight Line.JPG)"
    }
  ],
  "metadata": {
    "kernelspec": {
      "display_name": "Python 3.6",
      "name": "python36",
      "language": "python"
    },
    "language_info": {
      "mimetype": "text/ x - python",
      "nbconvert_exporter": "python",
      "version": "3.6.0",
      "name": "python",
      "file_extension": ".py",
      "pygments_lexer": "ipython2",
      "codemirror_mode": {
        "version": 2,
        "name": "ipython"
      }
    }
  },
  "nbformat": 4,
  "nbformat_minor": 2
}