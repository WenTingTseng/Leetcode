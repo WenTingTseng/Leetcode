{
 "cells": [
  {
   "cell_type": "markdown",
   "metadata": {
    "collapsed": true
   },
   "source": [
    "## 題目:\n",
    "Given a 32-bit signed integer, reverse digits of an integer."
   ]
  },
  {
   "cell_type": "markdown",
   "metadata": {},
   "source": [
    "* Example 1:\n",
    "\n",
    "   Input: 123\n",
    "\n",
    "   Output: 321\n",
    "\n",
    "* Example 2:\n",
    "\n",
    "   Input: -123\n",
    "\n",
    "   Output: -321\n",
    "\n",
    "* Example 3:\n",
    "\n",
    "  Input: 120\n",
    "\n",
    "  Output: 21"
   ]
  },
  {
   "cell_type": "markdown",
   "metadata": {},
   "source": [
    "<h3>解題思路:</h3>\n",
    "循環通過對10取模得到尾部數字，一步步乘10構造新的翻轉後的整數即可。然而要注意首先判斷原數字的正負，最後還要判斷結果是否溢出。"
   ]
  },
  {
   "cell_type": "code",
   "execution_count": 14,
   "metadata": {},
   "outputs": [],
   "source": [
    "class Solution:\n",
    "    def reverse(self, x: int) -> int:\n",
    "        if(x<0):\n",
    "            x=-x\n",
    "            sum=0\n",
    "            for index,i in enumerate(str(x)):\n",
    "                sum+=(10**index)*int(i)\n",
    "            return -(sum) if sum < 2147483648 and sum >= -2147483648 else 0\n",
    "        else:\n",
    "            sum=0\n",
    "            for index,i in enumerate(str(x)):\n",
    "                sum+=(10**index)*int(i)\n",
    "            return sum if sum < 2147483648 and sum >= -2147483648 else 0"
   ]
  },
  {
   "cell_type": "code",
   "execution_count": 18,
   "metadata": {},
   "outputs": [
    {
     "name": "stdout",
     "output_type": "stream",
     "text": [
      "21\n"
     ]
    }
   ],
   "source": [
    "x=120\n",
    "print(reverse(x))"
   ]
  },
  {
   "cell_type": "markdown",
   "metadata": {},
   "source": [
    "<h3>解題思路:</h3>\n",
    "利用Python的字符串反轉操作來實現對整數的反轉，反轉後的字符串要重新轉換為整數。同上面一樣，要注意正負和溢出情況。"
   ]
  },
  {
   "cell_type": "code",
   "execution_count": 20,
   "metadata": {},
   "outputs": [],
   "source": [
    "class Solution(object):\n",
    "    def reverse(self, x):\n",
    "    \n",
    "        x = int(str(x)[::-1]) if x >= 0 else - int(str(-x)[::-1])\n",
    "        return x if x < 2147483648 and x >= -2147483648 else 0"
   ]
  },
  {
   "cell_type": "markdown",
   "metadata": {},
   "source": [
    "![title](img/Reverse Integer.JPG)"
   ]
  }
 ],
 "metadata": {
  "kernelspec": {
   "display_name": "Python 3.6",
   "language": "python",
   "name": "python36"
  },
  "language_info": {
   "codemirror_mode": {
    "name": "ipython",
    "version": 3
   },
   "file_extension": ".py",
   "mimetype": "text/x-python",
   "name": "python",
   "nbconvert_exporter": "python",
   "pygments_lexer": "ipython3",
   "version": "3.6.6"
  }
 },
 "nbformat": 4,
 "nbformat_minor": 2
}
